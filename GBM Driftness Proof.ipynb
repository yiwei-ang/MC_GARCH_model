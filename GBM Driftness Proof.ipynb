{
 "cells": [
  {
   "cell_type": "markdown",
   "metadata": {},
   "source": [
    "# Moment-Generating Function (MGF)"
   ]
  },
  {
   "cell_type": "markdown",
   "metadata": {},
   "source": [
    "Moment-generating function of a real-valued random variable is an alternative specification of its probability distribution. \n",
    "\n",
    "$${\\displaystyle M_{X}(t):=\\operatorname {E} \\left[e^{tX}\\right],\\quad t\\in \\mathbb {R} ,}$$\n"
   ]
  },
  {
   "cell_type": "markdown",
   "metadata": {},
   "source": [
    "# Proof Expected Value of a Geometric Brownian Motion (GBM)\n",
    "\n",
    "* Source: http://www.columbia.edu/~ks20/FE-Notes/4700-07-Notes-GBM.pdf\n",
    "\n",
    "Recall that the moment generating function of a normal r.v. $X ∼ N(\\mu, \\sigma^2)$ is given by\n",
    "\n",
    "$$M_{X}(s) = E(e^{sX}) = e^{\\mu s +\\frac{\\sigma^2 s^2}{2}}$$\n",
    "\n",
    "Since Thus for BM with drift, since $X(t) ∼ N(\\mu t, \\sigma^{2}t)$,\n",
    "\n",
    "$$M_{X(t)}(s) = E(e^{sX(t)}) = E(e^{\\mu ts +\\frac{\\sigma^2 ts^2}{2}})$$\n",
    "\n",
    "While having $X = N(\\mu, \\sigma^2)$, in GBM, we have:\n",
    "\n",
    "$$S_{t} = S_{0}e^{(\\mu - \\frac{\\sigma^2}{2})t + \\sigma \\sqrt{t} X}$$\n",
    "\n",
    "For the expected value of $S_{t}$:\n",
    "\n",
    "$$E(S_{t}) = S_{0}e^{(\\mu - \\frac{\\sigma^2}{2})t} E(e^{\\sigma \\sqrt{t} X})$$\n",
    "\n",
    "and let $s = \\sigma \\sqrt{t}$:\n",
    "\n",
    "$$E(S_{t}) = S_{0}e^{(\\mu - \\frac{\\sigma^2}{2})t}  e^{\\mu \\sigma \\sqrt{t} +\\frac{\\sigma^2 (\\sigma \\sqrt{t})^2}{2}}$$\n",
    "\n",
    "and finally, let $\\mu = 0$ and $\\sigma = 1$\n",
    "\n",
    "$$E(S_{t}) = S_{0}e^{(- \\frac{1}{2})t}e^{(\\frac{1}{2})t} = S_{0}$$"
   ]
  }
 ],
 "metadata": {
  "kernelspec": {
   "display_name": "Python 3",
   "language": "python",
   "name": "python3"
  },
  "language_info": {
   "codemirror_mode": {
    "name": "ipython",
    "version": 3
   },
   "file_extension": ".py",
   "mimetype": "text/x-python",
   "name": "python",
   "nbconvert_exporter": "python",
   "pygments_lexer": "ipython3",
   "version": "3.8.5"
  }
 },
 "nbformat": 4,
 "nbformat_minor": 4
}
